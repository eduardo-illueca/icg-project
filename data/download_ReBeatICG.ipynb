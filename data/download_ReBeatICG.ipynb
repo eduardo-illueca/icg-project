{
  "cells": [
    {
      "cell_type": "markdown",
      "metadata": {
        "id": "view-in-github",
        "colab_type": "text"
      },
      "source": [
        "<a href=\"https://colab.research.google.com/github/eduardo-illueca/icg-project/blob/main/data/download_ReBeatICG.ipynb\" target=\"_parent\"><img src=\"https://colab.research.google.com/assets/colab-badge.svg\" alt=\"Open In Colab\"/></a>"
      ]
    },
    {
      "cell_type": "markdown",
      "metadata": {
        "id": "PSdTj9w6Sez6"
      },
      "source": [
        "# Code Part"
      ]
    },
    {
      "cell_type": "markdown",
      "metadata": {
        "id": "CCen9E3QrspI"
      },
      "source": [
        "## Download Dataset\n"
      ]
    },
    {
      "cell_type": "code",
      "execution_count": null,
      "metadata": {
        "id": "aAw3qnBQK14I"
      },
      "outputs": [],
      "source": [
        "!mkdir /content/RawData/\n",
        "!wget -q https://zenodo.org/records/4725433/files/01_RawData.zip?download=1 -O /content/RawData/01_RawData.zip\n",
        "!unzip -qo /content/RawData/01_RawData.zip -d /content/RawData/\n",
        "\n",
        "!mkdir /content/FilteredData/\n",
        "!wget -q https://zenodo.org/records/4725433/files/02_FilteredData.zip?download=1 -O /content/FilteredData/02_FilteredData.zip\n",
        "!unzip -qo /content//FilteredData/02_FilteredData.zip -d /content//FilteredData/\n",
        "\n",
        "!mkdir /content/Annotations/\n",
        "!wget -q https://zenodo.org/records/4725433/files/03_ExpertAnnotations.zip?download=1 -O /content/Annotations/02_FilteredData.zip\n",
        "!unzip -qo /content/Annotations/02_FilteredData.zip -d /content/Annotations/"
      ]
    },
    {
      "cell_type": "code",
      "source": [],
      "metadata": {
        "id": "GiK-lQiujpjG"
      },
      "execution_count": null,
      "outputs": []
    },
    {
      "cell_type": "code",
      "execution_count": null,
      "metadata": {
        "id": "Ltd2zoN2LRum"
      },
      "outputs": [],
      "source": [
        "\n",
        "import numpy as np\n",
        "import pandas as pd\n",
        "import scipy.io as sio\n",
        "\n",
        "filename = f'/content/RawData/RawData_Subject_24_task_CW.mat'\n",
        "data_raw =  sio.loadmat(filename)\n",
        "\n",
        "filename = f'/content/FilteredData/FilteredData_Subject_24_task_CW.mat'\n",
        "data_filtered =  sio.loadmat(filename)\n",
        "\n",
        "filename = f'/content/Annotations/Annotat_Subject_24_task_CW.mat'\n",
        "annotation =  sio.loadmat(filename)"
      ]
    }
  ],
  "metadata": {
    "colab": {
      "provenance": [],
      "include_colab_link": true
    },
    "kernelspec": {
      "display_name": "Python 3",
      "name": "python3"
    },
    "language_info": {
      "name": "python"
    }
  },
  "nbformat": 4,
  "nbformat_minor": 0
}